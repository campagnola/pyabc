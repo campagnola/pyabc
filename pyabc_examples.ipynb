{
 "cells": [
  {
   "cell_type": "markdown",
   "metadata": {},
   "source": [
    "# Example usage of library and dev work for guitar tab\n",
    "\n",
    "## Example usage of `class Tune` to load a "
   ]
  },
  {
   "cell_type": "code",
   "execution_count": 5,
   "metadata": {},
   "outputs": [],
   "source": [
    "import pyabc"
   ]
  },
  {
   "cell_type": "code",
   "execution_count": 35,
   "metadata": {},
   "outputs": [
    {
     "data": {
      "application/javascript": [
       "IPython.OutputArea.prototype._should_scroll = function(lines) {\n",
       "    return false;\n",
       "}"
      ],
      "text/plain": [
       "<IPython.core.display.Javascript object>"
      ]
     },
     "metadata": {},
     "output_type": "display_data"
    }
   ],
   "source": [
    "%%javascript\n",
    "IPython.OutputArea.prototype._should_scroll = function(lines) {\n",
    "    return false;\n",
    "}"
   ]
  },
  {
   "cell_type": "code",
   "execution_count": 6,
   "metadata": {},
   "outputs": [],
   "source": [
    "ARGIERS=\"\"\"X:1\n",
    "T:Argiers\n",
    "M:4/4\n",
    "K:G\n",
    "GABc A3 G|F2 D2 D4|d2 A2 d3 c|B2 G2 G4|\n",
    "GABc A3 G|F2 D2 D2 D2|EF G2 FG A2|G4 G4:|\n",
    "FG A2 FG A2|d2 A2 d2 A2|FG A2 FG A2|d2 A2 d4|\n",
    "d2 cB c2 dc | B2 AG A2 D2 | EF G2 FG A2 | G4 G4   :||\n",
    "\"\"\""
   ]
  },
  {
   "cell_type": "code",
   "execution_count": 7,
   "metadata": {},
   "outputs": [],
   "source": [
    "argiers = pyabc.Tune(ARGIERS)"
   ]
  },
  {
   "cell_type": "code",
   "execution_count": 11,
   "metadata": {},
   "outputs": [
    {
     "name": "stdout",
     "output_type": "stream",
     "text": [
      "['__class__', '__delattr__', '__dict__', '__dir__', '__doc__', '__eq__', '__format__', '__ge__', '__getattribute__', '__gt__', '__hash__', '__init__', '__init_subclass__', '__le__', '__lt__', '__module__', '__ne__', '__new__', '__reduce__', '__reduce_ex__', '__repr__', '__setattr__', '__sizeof__', '__str__', '__subclasshook__', '__weakref__', 'abc', 'header', 'key', 'notes', 'parse_abc', 'parse_header', 'parse_json', 'parse_tune', 'pitchogram', 'reference', 'title', 'tokenize', 'tokens', 'url']\n"
     ]
    }
   ],
   "source": [
    "print(dir(argiers))"
   ]
  },
  {
   "cell_type": "code",
   "execution_count": 42,
   "metadata": {},
   "outputs": [
    {
     "name": "stdout",
     "output_type": "stream",
     "text": [
      "-------------------------------------------------------------------------------\n",
      "Report on item_output = argiers.abc\n",
      "-------------------------------------------------------------------------------\n",
      "X:1\n",
      "T:Argiers\n",
      "M:4/4\n",
      "K:G\n",
      "GABc A3 G|F2 D2 D4|d2 A2 d3 c|B2 G2 G4|\n",
      "GABc A3 G|F2 D2 D2 D2|EF G2 FG A2|G4 G4:|\n",
      "FG A2 FG A2|d2 A2 d2 A2|FG A2 FG A2|d2 A2 d4|\n",
      "d2 cB c2 dc | B2 AG A2 D2 | EF G2 FG A2 | G4 G4   :||\n",
      "\n",
      "-------------------------------------------------------------------------------\n",
      "\n",
      "-------------------------------------------------------------------------------\n",
      "Report on item_output = argiers.header\n",
      "-------------------------------------------------------------------------------\n",
      "{'reference number': '1', 'tune title': 'Argiers', 'meter': '4/4', 'key': 'G'}\n",
      "-------------------------------------------------------------------------------\n",
      "\n",
      "-------------------------------------------------------------------------------\n",
      "Report on item_output = argiers.key\n",
      "-------------------------------------------------------------------------------\n",
      "G\n",
      "-------------------------------------------------------------------------------\n",
      "\n",
      "-------------------------------------------------------------------------------\n",
      "Report on item_output = argiers.notes\n",
      "-------------------------------------------------------------------------------\n",
      "[<Note \"G\">, <Note \"A\">, <Note \"B\">, <Note \"c\">, <Note \"A3\">, <Note \"G\">, <Note \"F2\">, <Note \"D2\">, <Note \"D4\">, <Note \"d2\">, <Note \"A2\">, <Note \"d3\">, <Note \"c\">, <Note \"B2\">, <Note \"G2\">, <Note \"G4\">, <Note \"G\">, <Note \"A\">, <Note \"B\">, <Note \"c\">, <Note \"A3\">, <Note \"G\">, <Note \"F2\">, <Note \"D2\">, <Note \"D2\">, <Note \"D2\">, <Note \"E\">, <Note \"F\">, <Note \"G2\">, <Note \"F\">, <Note \"G\">, <Note \"A2\">, <Note \"G4\">, <Note \"G4\">, <Note \"F\">, <Note \"G\">, <Note \"A2\">, <Note \"F\">, <Note \"G\">, <Note \"A2\">, <Note \"d2\">, <Note \"A2\">, <Note \"d2\">, <Note \"A2\">, <Note \"F\">, <Note \"G\">, <Note \"A2\">, <Note \"F\">, <Note \"G\">, <Note \"A2\">, <Note \"d2\">, <Note \"A2\">, <Note \"d4\">, <Note \"d2\">, <Note \"c\">, <Note \"B\">, <Note \"c2\">, <Note \"d\">, <Note \"c\">, <Note \"B2\">, <Note \"A\">, <Note \"G\">, <Note \"A2\">, <Note \"D2\">, <Note \"E\">, <Note \"F\">, <Note \"G2\">, <Note \"F\">, <Note \"G\">, <Note \"A2\">, <Note \"G4\">, <Note \"G4\">]\n",
      "-------------------------------------------------------------------------------\n",
      "\n",
      "-------------------------------------------------------------------------------\n",
      "Report on item_output = argiers.item_output = argiers.parse_abc()\n",
      "-------------------------------------------------------------------------------\n",
      "Consider the args\n",
      "-------------------------------------------------------------------------------\n",
      "\n",
      "-------------------------------------------------------------------------------\n",
      "Report on item_output = argiers.item_output = argiers.parse_header()\n",
      "-------------------------------------------------------------------------------\n",
      "Consider the args\n",
      "-------------------------------------------------------------------------------\n",
      "\n",
      "-------------------------------------------------------------------------------\n",
      "Report on item_output = argiers.item_output = argiers.parse_json()\n",
      "-------------------------------------------------------------------------------\n",
      "Consider the args\n",
      "-------------------------------------------------------------------------------\n",
      "\n",
      "-------------------------------------------------------------------------------\n",
      "Report on item_output = argiers.item_output = argiers.parse_tune()\n",
      "-------------------------------------------------------------------------------\n",
      "Consider the args\n",
      "-------------------------------------------------------------------------------\n",
      "\n",
      "-------------------------------------------------------------------------------\n",
      "Report on item_output = argiers.pitchogram\n",
      "-------------------------------------------------------------------------------\n",
      "<function Tune.pitchogram at 0x7fe4ccb6f9d8>\n",
      "-------------------------------------------------------------------------------\n",
      "\n",
      "-------------------------------------------------------------------------------\n",
      "Report on item_output = argiers.reference\n",
      "-------------------------------------------------------------------------------\n",
      "1\n",
      "-------------------------------------------------------------------------------\n",
      "\n",
      "-------------------------------------------------------------------------------\n",
      "Report on item_output = argiers.title\n",
      "-------------------------------------------------------------------------------\n",
      "Argiers\n",
      "-------------------------------------------------------------------------------\n",
      "\n",
      "-------------------------------------------------------------------------------\n",
      "Report on item_output = argiers.item_output = argiers.tokenize()\n",
      "-------------------------------------------------------------------------------\n",
      "Consider the args\n",
      "-------------------------------------------------------------------------------\n",
      "\n",
      "-------------------------------------------------------------------------------\n",
      "Report on item_output = argiers.tokens\n",
      "-------------------------------------------------------------------------------\n",
      "[<Note \"G\">, <Note \"A\">, <Note \"B\">, <Note \"c\">, <Space \" \">, <Note \"A3\">, <Space \" \">, <Note \"G\">, <Beam \"|\">, <Note \"F2\">, <Space \" \">, <Note \"D2\">, <Space \" \">, <Note \"D4\">, <Beam \"|\">, <Note \"d2\">, <Space \" \">, <Note \"A2\">, <Space \" \">, <Note \"d3\">, <Space \" \">, <Note \"c\">, <Beam \"|\">, <Note \"B2\">, <Space \" \">, <Note \"G2\">, <Space \" \">, <Note \"G4\">, <Beam \"|\">, <Newline \"\n",
      "\">, <Note \"G\">, <Note \"A\">, <Note \"B\">, <Note \"c\">, <Space \" \">, <Note \"A3\">, <Space \" \">, <Note \"G\">, <Beam \"|\">, <Note \"F2\">, <Space \" \">, <Note \"D2\">, <Space \" \">, <Note \"D2\">, <Space \" \">, <Note \"D2\">, <Beam \"|\">, <Note \"E\">, <Note \"F\">, <Space \" \">, <Note \"G2\">, <Space \" \">, <Note \"F\">, <Note \"G\">, <Space \" \">, <Note \"A2\">, <Beam \"|\">, <Note \"G4\">, <Space \" \">, <Note \"G4\">, <Beam \":|\">, <Newline \"\n",
      "\">, <Note \"F\">, <Note \"G\">, <Space \" \">, <Note \"A2\">, <Space \" \">, <Note \"F\">, <Note \"G\">, <Space \" \">, <Note \"A2\">, <Beam \"|\">, <Note \"d2\">, <Space \" \">, <Note \"A2\">, <Space \" \">, <Note \"d2\">, <Space \" \">, <Note \"A2\">, <Beam \"|\">, <Note \"F\">, <Note \"G\">, <Space \" \">, <Note \"A2\">, <Space \" \">, <Note \"F\">, <Note \"G\">, <Space \" \">, <Note \"A2\">, <Beam \"|\">, <Note \"d2\">, <Space \" \">, <Note \"A2\">, <Space \" \">, <Note \"d4\">, <Beam \"|\">, <Newline \"\n",
      "\">, <Note \"d2\">, <Space \" \">, <Note \"c\">, <Note \"B\">, <Space \" \">, <Note \"c2\">, <Space \" \">, <Note \"d\">, <Note \"c\">, <Space \" \">, <Beam \"|\">, <Space \" \">, <Note \"B2\">, <Space \" \">, <Note \"A\">, <Note \"G\">, <Space \" \">, <Note \"A2\">, <Space \" \">, <Note \"D2\">, <Space \" \">, <Beam \"|\">, <Space \" \">, <Note \"E\">, <Note \"F\">, <Space \" \">, <Note \"G2\">, <Space \" \">, <Note \"F\">, <Note \"G\">, <Space \" \">, <Note \"A2\">, <Space \" \">, <Beam \"|\">, <Space \" \">, <Note \"G4\">, <Space \" \">, <Note \"G4\">, <Space \"   \">, <Beam \":||\">, <Newline \"\n",
      "\">]\n",
      "-------------------------------------------------------------------------------\n",
      "\n",
      "-------------------------------------------------------------------------------\n",
      "Report on item_output = argiers.url\n",
      "-------------------------------------------------------------------------------\n",
      "None\n",
      "-------------------------------------------------------------------------------\n",
      "\n"
     ]
    }
   ],
   "source": [
    "classbits = [i for i in dir(argiers) if i[0] != '_']\n",
    "\n",
    "\n",
    "for item in classbits:\n",
    "    item = f\"item_output = argiers.{item}\"\n",
    "    exec(item)\n",
    "    if \"<bound method Tune\" in str(item_output):\n",
    "        item = f\"item_output = argiers.{item}()\"\n",
    "        try:\n",
    "            exec(item)\n",
    "        except:\n",
    "            item_output = \"Consider the args\"\n",
    "    msg = (\"{}\\nReport on {}\\n{}\\n\"\n",
    "           \"{}\\n{}\\n\")\n",
    "    hbrk = '-' * 79\n",
    "    print(msg.format(hbrk, item, hbrk, item_output, hbrk))\n",
    "    \n",
    "    "
   ]
  },
  {
   "cell_type": "code",
   "execution_count": null,
   "metadata": {},
   "outputs": [],
   "source": []
  },
  {
   "cell_type": "markdown",
   "metadata": {},
   "source": [
    "## Todo?\n",
    "* Pylint Compliance\n",
    "* Note what version of Python is being used\n",
    "* Licence question\n",
    "* Docstringing\n",
    "* Full Documentation/Readme\n",
    "* Remove print statement from tune\n",
    "* Add convert to Bachian Score as a method - DISCUSS how best to do this. Beware GTK &C."
   ]
  },
  {
   "cell_type": "code",
   "execution_count": null,
   "metadata": {},
   "outputs": [],
   "source": []
  }
 ],
 "metadata": {
  "kernelspec": {
   "display_name": "Python 3",
   "language": "python",
   "name": "python3"
  },
  "language_info": {
   "codemirror_mode": {
    "name": "ipython",
    "version": 3
   },
   "file_extension": ".py",
   "mimetype": "text/x-python",
   "name": "python",
   "nbconvert_exporter": "python",
   "pygments_lexer": "ipython3",
   "version": "3.6.5"
  }
 },
 "nbformat": 4,
 "nbformat_minor": 2
}
